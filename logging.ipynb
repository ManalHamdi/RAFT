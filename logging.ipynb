{
 "cells": [
  {
   "cell_type": "code",
   "execution_count": 5,
   "id": "b2ba9b3e",
   "metadata": {},
   "outputs": [
    {
     "name": "stdout",
     "output_type": "stream",
     "text": [
      "Tensorboard version: 2.9.0\n",
      "The tensorboard extension is already loaded. To reload it, use:\n",
      "  %reload_ext tensorboard\n"
     ]
    },
    {
     "data": {
      "text/plain": [
       "Reusing TensorBoard on port 6007 (pid 3449856), started 0:00:05 ago. (Use '!kill 3449856' to kill it.)"
      ]
     },
     "metadata": {},
     "output_type": "display_data"
    },
    {
     "data": {
      "text/html": [
       "\n",
       "      <iframe id=\"tensorboard-frame-a27f7b27b71ab927\" width=\"100%\" height=\"800\" frameborder=\"0\">\n",
       "      </iframe>\n",
       "      <script>\n",
       "        (function() {\n",
       "          const frame = document.getElementById(\"tensorboard-frame-a27f7b27b71ab927\");\n",
       "          const url = new URL(\"/\", window.location);\n",
       "          const port = 6007;\n",
       "          if (port) {\n",
       "            url.port = port;\n",
       "          }\n",
       "          frame.src = url;\n",
       "        })();\n",
       "      </script>\n",
       "    "
      ],
      "text/plain": [
       "<IPython.core.display.HTML object>"
      ]
     },
     "metadata": {},
     "output_type": "display_data"
    }
   ],
   "source": [
    "import tensorboard\n",
    "print(f\"Tensorboard version: {tensorboard.__version__}\")\n",
    "%load_ext tensorboard\n",
    "%tensorboard --logdir runs/\n",
    "%reload_ext tensorboard"
   ]
  },
  {
   "cell_type": "code",
   "execution_count": 3,
   "id": "64b9d291",
   "metadata": {},
   "outputs": [
    {
     "name": "stdout",
     "output_type": "stream",
     "text": [
      "checkpoints/213_raft-acdc.pth\r\n"
     ]
    }
   ],
   "source": [
    "ls checkpoints/213_raft-acdc.pth "
   ]
  },
  {
   "cell_type": "code",
   "execution_count": 4,
   "id": "9aba4b14",
   "metadata": {},
   "outputs": [
    {
     "name": "stdout",
     "output_type": "stream",
     "text": [
      "100_raft-acdc.pth  14_raft-acdc.pth   199_raft-acdc.pth  54_raft-acdc.pth\r\n",
      "101_raft-acdc.pth  150_raft-acdc.pth  19_raft-acdc.pth   55_raft-acdc.pth\r\n",
      "102_raft-acdc.pth  151_raft-acdc.pth  1_raft-acdc.pth    56_raft-acdc.pth\r\n",
      "103_raft-acdc.pth  152_raft-acdc.pth  200_raft-acdc.pth  57_raft-acdc.pth\r\n",
      "104_raft-acdc.pth  153_raft-acdc.pth  201_raft-acdc.pth  58_raft-acdc.pth\r\n",
      "105_raft-acdc.pth  154_raft-acdc.pth  202_raft-acdc.pth  59_raft-acdc.pth\r\n",
      "106_raft-acdc.pth  155_raft-acdc.pth  203_raft-acdc.pth  5_raft-acdc.pth\r\n",
      "107_raft-acdc.pth  156_raft-acdc.pth  204_raft-acdc.pth  60_raft-acdc.pth\r\n",
      "108_raft-acdc.pth  157_raft-acdc.pth  205_raft-acdc.pth  61_raft-acdc.pth\r\n",
      "109_raft-acdc.pth  158_raft-acdc.pth  206_raft-acdc.pth  62_raft-acdc.pth\r\n",
      "10_raft-acdc.pth   159_raft-acdc.pth  207_raft-acdc.pth  63_raft-acdc.pth\r\n",
      "110_raft-acdc.pth  15_raft-acdc.pth   208_raft-acdc.pth  64_raft-acdc.pth\r\n",
      "111_raft-acdc.pth  160_raft-acdc.pth  209_raft-acdc.pth  65_raft-acdc.pth\r\n",
      "112_raft-acdc.pth  161_raft-acdc.pth  20_raft-acdc.pth   66_raft-acdc.pth\r\n",
      "113_raft-acdc.pth  162_raft-acdc.pth  210_raft-acdc.pth  67_raft-acdc.pth\r\n",
      "114_raft-acdc.pth  163_raft-acdc.pth  211_raft-acdc.pth  68_raft-acdc.pth\r\n",
      "115_raft-acdc.pth  164_raft-acdc.pth  212_raft-acdc.pth  69_raft-acdc.pth\r\n",
      "116_raft-acdc.pth  165_raft-acdc.pth  213_raft-acdc.pth  6_raft-acdc.pth\r\n",
      "117_raft-acdc.pth  166_raft-acdc.pth  21_raft-acdc.pth   70_raft-acdc.pth\r\n",
      "118_raft-acdc.pth  167_raft-acdc.pth  22_raft-acdc.pth   71_raft-acdc.pth\r\n",
      "119_raft-acdc.pth  168_raft-acdc.pth  23_raft-acdc.pth   72_raft-acdc.pth\r\n",
      "11_raft-acdc.pth   169_raft-acdc.pth  24_raft-acdc.pth   73_raft-acdc.pth\r\n",
      "120_raft-acdc.pth  16_raft-acdc.pth   25_raft-acdc.pth   74_raft-acdc.pth\r\n",
      "121_raft-acdc.pth  170_raft-acdc.pth  26_raft-acdc.pth   75_raft-acdc.pth\r\n",
      "122_raft-acdc.pth  171_raft-acdc.pth  27_raft-acdc.pth   76_raft-acdc.pth\r\n",
      "123_raft-acdc.pth  172_raft-acdc.pth  28_raft-acdc.pth   77_raft-acdc.pth\r\n",
      "124_raft-acdc.pth  173_raft-acdc.pth  29_raft-acdc.pth   78_raft-acdc.pth\r\n",
      "125_raft-acdc.pth  174_raft-acdc.pth  2_raft-acdc.pth    79_raft-acdc.pth\r\n",
      "126_raft-acdc.pth  175_raft-acdc.pth  30_raft-acdc.pth   7_raft-acdc.pth\r\n",
      "127_raft-acdc.pth  176_raft-acdc.pth  31_raft-acdc.pth   80_raft-acdc.pth\r\n",
      "128_raft-acdc.pth  177_raft-acdc.pth  32_raft-acdc.pth   81_raft-acdc.pth\r\n",
      "129_raft-acdc.pth  178_raft-acdc.pth  33_raft-acdc.pth   82_raft-acdc.pth\r\n",
      "12_raft-acdc.pth   179_raft-acdc.pth  34_raft-acdc.pth   83_raft-acdc.pth\r\n",
      "130_raft-acdc.pth  17_raft-acdc.pth   35_raft-acdc.pth   84_raft-acdc.pth\r\n",
      "131_raft-acdc.pth  180_raft-acdc.pth  36_raft-acdc.pth   85_raft-acdc.pth\r\n",
      "132_raft-acdc.pth  181_raft-acdc.pth  37_raft-acdc.pth   86_raft-acdc.pth\r\n",
      "133_raft-acdc.pth  182_raft-acdc.pth  38_raft-acdc.pth   87_raft-acdc.pth\r\n",
      "134_raft-acdc.pth  183_raft-acdc.pth  39_raft-acdc.pth   88_raft-acdc.pth\r\n",
      "135_raft-acdc.pth  184_raft-acdc.pth  3_raft-acdc.pth    89_raft-acdc.pth\r\n",
      "136_raft-acdc.pth  185_raft-acdc.pth  40_raft-acdc.pth   8_raft-acdc.pth\r\n",
      "137_raft-acdc.pth  186_raft-acdc.pth  41_raft-acdc.pth   90_raft-acdc.pth\r\n",
      "138_raft-acdc.pth  187_raft-acdc.pth  42_raft-acdc.pth   91_raft-acdc.pth\r\n",
      "139_raft-acdc.pth  188_raft-acdc.pth  43_raft-acdc.pth   92_raft-acdc.pth\r\n",
      "13_raft-acdc.pth   189_raft-acdc.pth  44_raft-acdc.pth   93_raft-acdc.pth\r\n",
      "140_raft-acdc.pth  18_raft-acdc.pth   45_raft-acdc.pth   94_raft-acdc.pth\r\n",
      "141_raft-acdc.pth  190_raft-acdc.pth  46_raft-acdc.pth   95_raft-acdc.pth\r\n",
      "142_raft-acdc.pth  191_raft-acdc.pth  47_raft-acdc.pth   96_raft-acdc.pth\r\n",
      "143_raft-acdc.pth  192_raft-acdc.pth  48_raft-acdc.pth   97_raft-acdc.pth\r\n",
      "144_raft-acdc.pth  193_raft-acdc.pth  49_raft-acdc.pth   98_raft-acdc.pth\r\n",
      "145_raft-acdc.pth  194_raft-acdc.pth  4_raft-acdc.pth    99_raft-acdc.pth\r\n",
      "146_raft-acdc.pth  195_raft-acdc.pth  50_raft-acdc.pth   9_raft-acdc.pth\r\n",
      "147_raft-acdc.pth  196_raft-acdc.pth  51_raft-acdc.pth   raft-acdc.pth\r\n",
      "148_raft-acdc.pth  197_raft-acdc.pth  52_raft-acdc.pth\r\n",
      "149_raft-acdc.pth  198_raft-acdc.pth  53_raft-acdc.pth\r\n"
     ]
    }
   ],
   "source": [
    "ls checkpoints"
   ]
  },
  {
   "cell_type": "code",
   "execution_count": 4,
   "id": "f71b4dcb",
   "metadata": {},
   "outputs": [
    {
     "name": "stdout",
     "output_type": "stream",
     "text": [
      "\u001b[0m\u001b[01;34mpatient101\u001b[0m/  \u001b[01;34mpatient110\u001b[0m/  \u001b[01;34mpatient119\u001b[0m/  \u001b[01;34mpatient128\u001b[0m/  \u001b[01;34mpatient137\u001b[0m/  \u001b[01;34mpatient146\u001b[0m/\r\n",
      "\u001b[01;34mpatient102\u001b[0m/  \u001b[01;34mpatient111\u001b[0m/  \u001b[01;34mpatient120\u001b[0m/  \u001b[01;34mpatient129\u001b[0m/  \u001b[01;34mpatient138\u001b[0m/  \u001b[01;34mpatient147\u001b[0m/\r\n",
      "\u001b[01;34mpatient103\u001b[0m/  \u001b[01;34mpatient112\u001b[0m/  \u001b[01;34mpatient121\u001b[0m/  \u001b[01;34mpatient130\u001b[0m/  \u001b[01;34mpatient139\u001b[0m/  \u001b[01;34mpatient148\u001b[0m/\r\n",
      "\u001b[01;34mpatient104\u001b[0m/  \u001b[01;34mpatient113\u001b[0m/  \u001b[01;34mpatient122\u001b[0m/  \u001b[01;34mpatient131\u001b[0m/  \u001b[01;34mpatient140\u001b[0m/  \u001b[01;34mpatient149\u001b[0m/\r\n",
      "\u001b[01;34mpatient105\u001b[0m/  \u001b[01;34mpatient114\u001b[0m/  \u001b[01;34mpatient123\u001b[0m/  \u001b[01;34mpatient132\u001b[0m/  \u001b[01;34mpatient141\u001b[0m/  \u001b[01;34mpatient150\u001b[0m/\r\n",
      "\u001b[01;34mpatient106\u001b[0m/  \u001b[01;34mpatient115\u001b[0m/  \u001b[01;34mpatient124\u001b[0m/  \u001b[01;34mpatient133\u001b[0m/  \u001b[01;34mpatient142\u001b[0m/\r\n",
      "\u001b[01;34mpatient107\u001b[0m/  \u001b[01;34mpatient116\u001b[0m/  \u001b[01;34mpatient125\u001b[0m/  \u001b[01;34mpatient134\u001b[0m/  \u001b[01;34mpatient143\u001b[0m/\r\n",
      "\u001b[01;34mpatient108\u001b[0m/  \u001b[01;34mpatient117\u001b[0m/  \u001b[01;34mpatient126\u001b[0m/  \u001b[01;34mpatient135\u001b[0m/  \u001b[01;34mpatient144\u001b[0m/\r\n",
      "\u001b[01;34mpatient109\u001b[0m/  \u001b[01;34mpatient118\u001b[0m/  \u001b[01;34mpatient127\u001b[0m/  \u001b[01;34mpatient136\u001b[0m/  \u001b[01;34mpatient145\u001b[0m/\r\n"
     ]
    }
   ],
   "source": [
    "ls ../../../data/ACDC/testing/"
   ]
  },
  {
   "cell_type": "code",
   "execution_count": 7,
   "id": "47b7e8a7",
   "metadata": {},
   "outputs": [],
   "source": [
    "import os\n",
    "f = open(\"DataPreprocessing/image_paths_validation.txt\", \"w\") #seg_frame1 seg_frame2 volume_4d\n",
    "\n",
    "for patient_folder_name in os.listdir(\"/home/guests/manal_hamdi/manal/RAFT/datasets/ACDC/testing/\"):\n",
    "    line = []\n",
    "    \n",
    "    for frame_name in os.listdir(\"/home/guests/manal_hamdi/manal/RAFT/datasets/ACDC/testing/\"+patient_folder_name):\n",
    "        if (frame_name == \"Info.cfg\"):\n",
    "            continue\n",
    "        else:\n",
    "            line.append(patient_folder_name + \"/\" + frame_name)\n",
    "    line.sort()\n",
    "    f.write(\" \".join(line))\n",
    "    f.write(\"\\n\")\n",
    "\n",
    "f.close()\n",
    "    "
   ]
  },
  {
   "cell_type": "code",
   "execution_count": 15,
   "id": "47eb5911",
   "metadata": {},
   "outputs": [],
   "source": [
    "import os\n",
    "f = open(\"DataPreprocessing/image_paths_validation.txt\", \"w\") #seg_frame1 seg_frame2 volume_4d\n",
    "\n",
    "for patient_folder_name in os.listdir(\"../../../data/ACDC/testing/\"):\n",
    "    line = []\n",
    "    for frame_name in os.listdir(\"../../../data/ACDC/testing/\"+patient_folder_name):\n",
    "        if (frame_name == \"Info.cfg\"):\n",
    "            continue\n",
    "        else:\n",
    "            line.append(patient_folder_name + \"/\" + frame_name)\n",
    "    f.write(\" \".join(line))\n",
    "    f.write(\"\\n\")\n",
    "\n",
    "f.close()"
   ]
  },
  {
   "cell_type": "code",
   "execution_count": 1,
   "id": "25603fc2",
   "metadata": {},
   "outputs": [],
   "source": [
    "import losses"
   ]
  },
  {
   "cell_type": "code",
   "execution_count": null,
   "id": "77f866c5",
   "metadata": {},
   "outputs": [],
   "source": [
    "flow_forward, "
   ]
  },
  {
   "cell_type": "code",
   "execution_count": null,
   "id": "c5b1d7de",
   "metadata": {},
   "outputs": [],
   "source": [
    "Spatial_Loss = SpatialSmooth(grad=1, boundary_awareness=False)\n",
    "spatial_loss = Spatial_Loss(flow_forward[itr][0,:,:,:,:], img_gt) + Spatial_Loss(flow_backward[itr][0,:,:,:,:], temp_gt)"
   ]
  }
 ],
 "metadata": {
  "kernelspec": {
   "display_name": "Python 3",
   "language": "python",
   "name": "python3"
  },
  "language_info": {
   "codemirror_mode": {
    "name": "ipython",
    "version": 3
   },
   "file_extension": ".py",
   "mimetype": "text/x-python",
   "name": "python",
   "nbconvert_exporter": "python",
   "pygments_lexer": "ipython3",
   "version": "3.8.8"
  }
 },
 "nbformat": 4,
 "nbformat_minor": 5
}
