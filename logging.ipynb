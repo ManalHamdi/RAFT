{
 "cells": [
  {
   "cell_type": "code",
   "execution_count": 1,
   "id": "7f97ab14",
   "metadata": {},
   "outputs": [],
   "source": [
    "import yaml\n",
    "import experiment as ex"
   ]
  },
  {
   "cell_type": "code",
   "execution_count": 2,
   "id": "87c7fb0c",
   "metadata": {},
   "outputs": [],
   "source": [
    "with open(\"config.yml\", \"r\") as stream:\n",
    "    try:\n",
    "        d = yaml.safe_load(stream)\n",
    "    except yaml.YAMLError as exc:\n",
    "        print(exc)"
   ]
  },
  {
   "cell_type": "code",
   "execution_count": 3,
   "id": "cd7c2fa6",
   "metadata": {},
   "outputs": [
    {
     "name": "stdout",
     "output_type": "stream",
     "text": [
      "{'dataset': 'acdc', 'small': False, 'mixed_precision': False, 'alternate_corr': False, 'gpus': [0], 'gamma': 0.8, 'max_seq_len': 8, 'batch_size': 1, 'output_file': 'debugging_exp_eval_results.txt', 'train_or_test': 'test', 'dropout': 0.0, 'name': 'Avg_Norm_full', 'restore_ckpt': 'october_checkpoints/Avg_Norm_full/Avg_Norm_full_198.pth', 'dataset_folder': '/home/guests/manal_hamdi/manal/TGRAFT/datasets/ACDC_processed/', 'add_normalisation': False, 'model': 'group'}\n"
     ]
    }
   ],
   "source": [
    "print(d['EvalGroupwiseNorm'])"
   ]
  },
  {
   "cell_type": "code",
   "execution_count": 6,
   "id": "67283b82",
   "metadata": {},
   "outputs": [
    {
     "name": "stdout",
     "output_type": "stream",
     "text": [
      "0\n"
     ]
    }
   ],
   "source": [
    "args = ex.Experiment(d['PairwiseFull'])\n",
    "print(args.gpus)"
   ]
  },
  {
   "cell_type": "code",
   "execution_count": 7,
   "id": "1db4d0bb",
   "metadata": {},
   "outputs": [
    {
     "data": {
      "text/plain": [
       "False"
      ]
     },
     "execution_count": 7,
     "metadata": {},
     "output_type": "execute_result"
    }
   ],
   "source": [
    "args.small"
   ]
  },
  {
   "cell_type": "code",
   "execution_count": 9,
   "id": "44badf2d",
   "metadata": {},
   "outputs": [
    {
     "name": "stdout",
     "output_type": "stream",
     "text": [
      "s\n"
     ]
    }
   ],
   "source": [
    "if 'dropout' in d['PairwiseFull']:\n",
    "    print(\"s\")"
   ]
  },
  {
   "cell_type": "code",
   "execution_count": null,
   "id": "82071caf",
   "metadata": {},
   "outputs": [],
   "source": []
  },
  {
   "cell_type": "code",
   "execution_count": null,
   "id": "dab82d26",
   "metadata": {},
   "outputs": [],
   "source": []
  },
  {
   "cell_type": "code",
   "execution_count": 1,
   "id": "2ae6a256",
   "metadata": {},
   "outputs": [
    {
     "name": "stderr",
     "output_type": "stream",
     "text": [
      "\u001b[34m\u001b[1mwandb\u001b[0m: Currently logged in as: \u001b[33mmanalhamdi\u001b[0m (\u001b[33mmanalteam\u001b[0m). Use \u001b[1m`wandb login --relogin`\u001b[0m to force relogin\n"
     ]
    },
    {
     "data": {
      "text/html": [
       "wandb version 0.13.4 is available!  To upgrade, please run:\n",
       " $ pip install wandb --upgrade"
      ],
      "text/plain": [
       "<IPython.core.display.HTML object>"
      ]
     },
     "metadata": {},
     "output_type": "display_data"
    },
    {
     "data": {
      "text/html": [
       "Tracking run with wandb version 0.13.1"
      ],
      "text/plain": [
       "<IPython.core.display.HTML object>"
      ]
     },
     "metadata": {},
     "output_type": "display_data"
    },
    {
     "data": {
      "text/html": [
       "Run data is saved locally in <code>/home/guests/manal_hamdi/manal/TGRAFT/wandb/run-20221014_163452-1m7ztz6e</code>"
      ],
      "text/plain": [
       "<IPython.core.display.HTML object>"
      ]
     },
     "metadata": {},
     "output_type": "display_data"
    },
    {
     "data": {
      "text/html": [
       "Syncing run <strong><a href=\"https://wandb.ai/manalteam/test-project/runs/1m7ztz6e\" target=\"_blank\">zany-water-542</a></strong> to <a href=\"https://wandb.ai/manalteam/test-project\" target=\"_blank\">Weights & Biases</a> (<a href=\"https://wandb.me/run\" target=\"_blank\">docs</a>)<br/>"
      ],
      "text/plain": [
       "<IPython.core.display.HTML object>"
      ]
     },
     "metadata": {},
     "output_type": "display_data"
    },
    {
     "data": {
      "text/html": [
       "<button onClick=\"this.nextSibling.style.display='block';this.style.display='none';\">Display W&B run</button><iframe src=\"https://wandb.ai/manalteam/test-project/runs/1m7ztz6e?jupyter=true\" style=\"border:none;width:100%;height:420px;display:none;\"></iframe>"
      ],
      "text/plain": [
       "<wandb.sdk.wandb_run.Run at 0x7f304d72b580>"
      ]
     },
     "execution_count": 1,
     "metadata": {},
     "output_type": "execute_result"
    }
   ],
   "source": [
    "import datasets\n",
    "import torch.utils.data as data\n",
    "import torch\n",
    "import wandb\n",
    "import matplotlib.pyplot as plt\n",
    "wandb.init(project=\"test-project\", entity=\"manalteam\")"
   ]
  },
  {
   "cell_type": "code",
   "execution_count": 2,
   "id": "549d796e",
   "metadata": {},
   "outputs": [
    {
     "ename": "AttributeError",
     "evalue": "module 'datasets' has no attribute 'ACDCDataset'",
     "output_type": "error",
     "traceback": [
      "\u001b[0;31m---------------------------------------------------------------------------\u001b[0m",
      "\u001b[0;31mAttributeError\u001b[0m                            Traceback (most recent call last)",
      "\u001b[0;32m<ipython-input-2-2412881bb72e>\u001b[0m in \u001b[0;36m<module>\u001b[0;34m\u001b[0m\n\u001b[0;32m----> 1\u001b[0;31m \u001b[0mtrain_dataset\u001b[0m \u001b[0;34m=\u001b[0m \u001b[0mdatasets\u001b[0m\u001b[0;34m.\u001b[0m\u001b[0mACDCDataset\u001b[0m\u001b[0;34m(\u001b[0m\u001b[0;34m\"/home/guests/manal_hamdi/manal/TGRAFT/datasets/ACDC_processed/\"\u001b[0m\u001b[0;34m,\u001b[0m \u001b[0;34m\"training\"\u001b[0m\u001b[0;34m,\u001b[0m\u001b[0;36m19\u001b[0m\u001b[0;34m,\u001b[0m \u001b[0;32mTrue\u001b[0m\u001b[0;34m)\u001b[0m\u001b[0;34m\u001b[0m\u001b[0;34m\u001b[0m\u001b[0m\n\u001b[0m\u001b[1;32m      2\u001b[0m \u001b[0mtrain_loader\u001b[0m \u001b[0;34m=\u001b[0m \u001b[0mdata\u001b[0m\u001b[0;34m.\u001b[0m\u001b[0mDataLoader\u001b[0m\u001b[0;34m(\u001b[0m\u001b[0mtrain_dataset\u001b[0m\u001b[0;34m,\u001b[0m \u001b[0mbatch_size\u001b[0m\u001b[0;34m=\u001b[0m\u001b[0;36m1\u001b[0m\u001b[0;34m,\u001b[0m \u001b[0mpin_memory\u001b[0m\u001b[0;34m=\u001b[0m\u001b[0;32mFalse\u001b[0m\u001b[0;34m,\u001b[0m \u001b[0mshuffle\u001b[0m\u001b[0;34m=\u001b[0m\u001b[0;32mTrue\u001b[0m\u001b[0;34m,\u001b[0m \u001b[0mnum_workers\u001b[0m\u001b[0;34m=\u001b[0m\u001b[0;36m4\u001b[0m\u001b[0;34m,\u001b[0m \u001b[0mdrop_last\u001b[0m\u001b[0;34m=\u001b[0m\u001b[0;32mTrue\u001b[0m\u001b[0;34m)\u001b[0m\u001b[0;34m\u001b[0m\u001b[0;34m\u001b[0m\u001b[0m\n",
      "\u001b[0;31mAttributeError\u001b[0m: module 'datasets' has no attribute 'ACDCDataset'"
     ]
    }
   ],
   "source": [
    "train_dataset = datasets.ACDCDataset(\"/home/guests/manal_hamdi/manal/TGRAFT/datasets/ACDC_processed/\", \"training\",19, True)\n",
    "train_loader = data.DataLoader(train_dataset, batch_size=1, pin_memory=False, shuffle=True, num_workers=4, drop_last=True)"
   ]
  },
  {
   "cell_type": "code",
   "execution_count": 7,
   "id": "5a24a9c2",
   "metadata": {},
   "outputs": [],
   "source": [
    "import os\n",
    "f = open(\"DataPreprocessing/image_paths_validation.txt\", \"w\") #seg_frame1 seg_frame2 volume_4d\n",
    "\n",
    "for patient_folder_name in os.listdir(\"/home/guests/manal_hamdi/manal/RAFT/datasets/ACDC/testing/\"):\n",
    "    line = []\n",
    "    \n",
    "    for frame_name in os.listdir(\"/home/guests/manal_hamdi/manal/RAFT/datasets/ACDC/testing/\"+patient_folder_name):\n",
    "        if (frame_name == \"Info.cfg\"):\n",
    "            continue\n",
    "        else:\n",
    "            line.append(patient_folder_name + \"/\" + frame_name)\n",
    "    line.sort()\n",
    "    f.write(\" \".join(line))\n",
    "    f.write(\"\\n\")\n",
    "\n",
    "f.close()\n",
    "    "
   ]
  },
  {
   "cell_type": "code",
   "execution_count": 15,
   "id": "59f80e80",
   "metadata": {},
   "outputs": [],
   "source": [
    "import os\n",
    "f = open(\"DataPreprocessing/image_paths_validation.txt\", \"w\") #seg_frame1 seg_frame2 volume_4d\n",
    "\n",
    "for patient_folder_name in os.listdir(\"../../../data/ACDC/testing/\"):\n",
    "    line = []\n",
    "    for frame_name in os.listdir(\"../../../data/ACDC/testing/\"+patient_folder_name):\n",
    "        if (frame_name == \"Info.cfg\"):\n",
    "            continue\n",
    "        else:\n",
    "            line.append(patient_folder_name + \"/\" + frame_name)\n",
    "    f.write(\" \".join(line))\n",
    "    f.write(\"\\n\")\n",
    "\n",
    "f.close()"
   ]
  },
  {
   "cell_type": "code",
   "execution_count": 1,
   "id": "59608bdf",
   "metadata": {},
   "outputs": [],
   "source": [
    "import losses"
   ]
  },
  {
   "cell_type": "code",
   "execution_count": null,
   "id": "1a021994",
   "metadata": {},
   "outputs": [],
   "source": [
    "flow_forward, "
   ]
  },
  {
   "cell_type": "code",
   "execution_count": null,
   "id": "61a1e1ca",
   "metadata": {},
   "outputs": [],
   "source": [
    "Spatial_Loss = SpatialSmooth(grad=1, boundary_awareness=False)\n",
    "spatial_loss = Spatial_Loss(flow_forward[itr][0,:,:,:,:], img_gt) + Spatial_Loss(flow_backward[itr][0,:,:,:,:], temp_gt)"
   ]
  }
 ],
 "metadata": {
  "kernelspec": {
   "display_name": "Python 3",
   "language": "python",
   "name": "python3"
  },
  "language_info": {
   "codemirror_mode": {
    "name": "ipython",
    "version": 3
   },
   "file_extension": ".py",
   "mimetype": "text/x-python",
   "name": "python",
   "nbconvert_exporter": "python",
   "pygments_lexer": "ipython3",
   "version": "3.8.8"
  }
 },
 "nbformat": 4,
 "nbformat_minor": 5
}
