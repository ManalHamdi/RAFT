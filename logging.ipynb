{
 "cells": [
  {
   "cell_type": "code",
   "execution_count": 5,
   "id": "b2ba9b3e",
   "metadata": {},
   "outputs": [
    {
     "name": "stdout",
     "output_type": "stream",
     "text": [
      "Tensorboard version: 2.9.0\n",
      "The tensorboard extension is already loaded. To reload it, use:\n",
      "  %reload_ext tensorboard\n"
     ]
    },
    {
     "data": {
      "text/plain": [
       "Reusing TensorBoard on port 6007 (pid 3449856), started 0:00:05 ago. (Use '!kill 3449856' to kill it.)"
      ]
     },
     "metadata": {},
     "output_type": "display_data"
    },
    {
     "data": {
      "text/html": [
       "\n",
       "      <iframe id=\"tensorboard-frame-a27f7b27b71ab927\" width=\"100%\" height=\"800\" frameborder=\"0\">\n",
       "      </iframe>\n",
       "      <script>\n",
       "        (function() {\n",
       "          const frame = document.getElementById(\"tensorboard-frame-a27f7b27b71ab927\");\n",
       "          const url = new URL(\"/\", window.location);\n",
       "          const port = 6007;\n",
       "          if (port) {\n",
       "            url.port = port;\n",
       "          }\n",
       "          frame.src = url;\n",
       "        })();\n",
       "      </script>\n",
       "    "
      ],
      "text/plain": [
       "<IPython.core.display.HTML object>"
      ]
     },
     "metadata": {},
     "output_type": "display_data"
    }
   ],
   "source": [
    "import tensorboard\n",
    "print(f\"Tensorboard version: {tensorboard.__version__}\")\n",
    "%load_ext tensorboard\n",
    "%tensorboard --logdir runs/\n",
    "%reload_ext tensorboard"
   ]
  },
  {
   "cell_type": "code",
   "execution_count": 4,
   "id": "f71b4dcb",
   "metadata": {},
   "outputs": [
    {
     "name": "stdout",
     "output_type": "stream",
     "text": [
      "\u001b[0m\u001b[01;34mpatient101\u001b[0m/  \u001b[01;34mpatient110\u001b[0m/  \u001b[01;34mpatient119\u001b[0m/  \u001b[01;34mpatient128\u001b[0m/  \u001b[01;34mpatient137\u001b[0m/  \u001b[01;34mpatient146\u001b[0m/\r\n",
      "\u001b[01;34mpatient102\u001b[0m/  \u001b[01;34mpatient111\u001b[0m/  \u001b[01;34mpatient120\u001b[0m/  \u001b[01;34mpatient129\u001b[0m/  \u001b[01;34mpatient138\u001b[0m/  \u001b[01;34mpatient147\u001b[0m/\r\n",
      "\u001b[01;34mpatient103\u001b[0m/  \u001b[01;34mpatient112\u001b[0m/  \u001b[01;34mpatient121\u001b[0m/  \u001b[01;34mpatient130\u001b[0m/  \u001b[01;34mpatient139\u001b[0m/  \u001b[01;34mpatient148\u001b[0m/\r\n",
      "\u001b[01;34mpatient104\u001b[0m/  \u001b[01;34mpatient113\u001b[0m/  \u001b[01;34mpatient122\u001b[0m/  \u001b[01;34mpatient131\u001b[0m/  \u001b[01;34mpatient140\u001b[0m/  \u001b[01;34mpatient149\u001b[0m/\r\n",
      "\u001b[01;34mpatient105\u001b[0m/  \u001b[01;34mpatient114\u001b[0m/  \u001b[01;34mpatient123\u001b[0m/  \u001b[01;34mpatient132\u001b[0m/  \u001b[01;34mpatient141\u001b[0m/  \u001b[01;34mpatient150\u001b[0m/\r\n",
      "\u001b[01;34mpatient106\u001b[0m/  \u001b[01;34mpatient115\u001b[0m/  \u001b[01;34mpatient124\u001b[0m/  \u001b[01;34mpatient133\u001b[0m/  \u001b[01;34mpatient142\u001b[0m/\r\n",
      "\u001b[01;34mpatient107\u001b[0m/  \u001b[01;34mpatient116\u001b[0m/  \u001b[01;34mpatient125\u001b[0m/  \u001b[01;34mpatient134\u001b[0m/  \u001b[01;34mpatient143\u001b[0m/\r\n",
      "\u001b[01;34mpatient108\u001b[0m/  \u001b[01;34mpatient117\u001b[0m/  \u001b[01;34mpatient126\u001b[0m/  \u001b[01;34mpatient135\u001b[0m/  \u001b[01;34mpatient144\u001b[0m/\r\n",
      "\u001b[01;34mpatient109\u001b[0m/  \u001b[01;34mpatient118\u001b[0m/  \u001b[01;34mpatient127\u001b[0m/  \u001b[01;34mpatient136\u001b[0m/  \u001b[01;34mpatient145\u001b[0m/\r\n"
     ]
    }
   ],
   "source": [
    "ls ../../../data/ACDC/testing/"
   ]
  },
  {
   "cell_type": "code",
   "execution_count": 15,
   "id": "47eb5911",
   "metadata": {},
   "outputs": [],
   "source": [
    "import os\n",
    "f = open(\"DataPreprocessing/image_paths_validation.txt\", \"w\") #seg_frame1 seg_frame2 volume_4d\n",
    "\n",
    "for patient_folder_name in os.listdir(\"../../../data/ACDC/testing/\"):\n",
    "    line = []\n",
    "    for frame_name in os.listdir(\"../../../data/ACDC/testing/\"+patient_folder_name):\n",
    "        if (frame_name == \"Info.cfg\"):\n",
    "            continue\n",
    "        else:\n",
    "            line.append(patient_folder_name + \"/\" + frame_name)\n",
    "    f.write(\" \".join(line))\n",
    "    f.write(\"\\n\")\n",
    "\n",
    "f.close()\n",
    "    "
   ]
  },
  {
   "cell_type": "code",
   "execution_count": 1,
   "id": "25603fc2",
   "metadata": {},
   "outputs": [],
   "source": [
    "import losses"
   ]
  },
  {
   "cell_type": "code",
   "execution_count": null,
   "id": "77f866c5",
   "metadata": {},
   "outputs": [],
   "source": [
    "flow_forward, "
   ]
  },
  {
   "cell_type": "code",
   "execution_count": null,
   "id": "c5b1d7de",
   "metadata": {},
   "outputs": [],
   "source": [
    "Spatial_Loss = SpatialSmooth(grad=1, boundary_awareness=False)\n",
    "spatial_loss = Spatial_Loss(flow_forward[itr][0,:,:,:,:], img_gt) + Spatial_Loss(flow_backward[itr][0,:,:,:,:], temp_gt)"
   ]
  }
 ],
 "metadata": {
  "kernelspec": {
   "display_name": "Python 3 (ipykernel)",
   "language": "python",
   "name": "python3"
  },
  "language_info": {
   "codemirror_mode": {
    "name": "ipython",
    "version": 3
   },
   "file_extension": ".py",
   "mimetype": "text/x-python",
   "name": "python",
   "nbconvert_exporter": "python",
   "pygments_lexer": "ipython3",
   "version": "3.10.4"
  }
 },
 "nbformat": 4,
 "nbformat_minor": 5
}
